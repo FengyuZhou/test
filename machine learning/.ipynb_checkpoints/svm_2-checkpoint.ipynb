{
 "cells": [
  {
   "cell_type": "code",
   "execution_count": 2,
   "metadata": {
    "collapsed": true
   },
   "outputs": [],
   "source": [
    "import pickle\n",
    "fin = open('TrainData.pkl','rb')\n",
    "[im,dg] = pickle.load(fin)"
   ]
  },
  {
   "cell_type": "code",
   "execution_count": 3,
   "metadata": {
    "scrolled": true
   },
   "outputs": [
    {
     "data": {
      "image/png": "[encoded data removed]",
      "text/plain": [
       "<matplotlib.figure.Figure at 0x10b242f10>"
      ]
     },
     "metadata": {},
     "output_type": "display_data"
    },
    {
     "name": "stdout",
     "output_type": "stream",
     "text": [
      "5\n"
     ]
    }
   ],
   "source": [
    "import matplotlib.pyplot as plt\n",
    "import pylab\n",
    "k = 24106\n",
    "plt.imshow(im[k])\n",
    "plt.show()\n",
    "print(dg[k])"
   ]
  },
  {
   "cell_type": "code",
   "execution_count": 3,
   "metadata": {
    "scrolled": false
   },
   "outputs": [
    {
     "name": "stderr",
     "output_type": "stream",
     "text": [
      "/Users/fengyu/anaconda2/lib/python2.7/site-packages/skimage/feature/_hog.py:119: skimage_deprecation: Default value of `block_norm`==`L1` is deprecated and will be changed to `L2-Hys` in v0.15\n",
      "  'be changed to `L2-Hys` in v0.15', skimage_deprecation)\n"
     ]
    }
   ],
   "source": [
    "from skimage.feature import hog\n",
    "import numpy as np\n",
    "n = len(im)\n",
    "train_set = range(int(n*0.4))\n",
    "n_train = len(train_set)\n",
    "test_set = range(n_train+1,n)\n",
    "n_test = len(test_set)\n",
    "x_train = []\n",
    "y_train = []\n",
    "train_id = []\n",
    "for i in train_set:\n",
    "    if(dg[i]==1):\n",
    "        #x_train.append([np.sum(im[i]),sym(im[i])])\n",
    "        x_train.append(hog(im[i], orientations=8))\n",
    "        y_train.append(0)\n",
    "        train_id.append(i)\n",
    "    if(dg[i]==7):\n",
    "        #x_train.append([np.sum(im[i]),sym(im[i])])\n",
    "        x_train.append(hog(im[i], orientations=8))\n",
    "        y_train.append(1)\n",
    "        train_id.append(i)\n",
    "x_test = []\n",
    "y_test = []\n",
    "test_id = []\n",
    "for i in test_set:\n",
    "    if(dg[i]==1):\n",
    "        #x_test.append([np.sum(im[i]),sym(im[i])])\n",
    "        x_test.append(hog(im[i], orientations=8))\n",
    "        y_test.append(0)\n",
    "        test_id.append(i)\n",
    "    if(dg[i]==7):\n",
    "        #x_test.append([np.sum(im[i]),sym(im[i])])\n",
    "        x_test.append(hog(im[i], orientations=8))\n",
    "        y_test.append(1)\n",
    "        test_id.append(i)"
   ]
  },
  {
   "cell_type": "code",
   "execution_count": null,
   "metadata": {
    "collapsed": true
   },
   "outputs": [],
   "source": []
  }
 ],
 "metadata": {
  "kernelspec": {
   "display_name": "Python 2",
   "language": "python",
   "name": "python2"
  },
  "language_info": {
   "codemirror_mode": {
    "name": "ipython",
    "version": 2
   },
   "file_extension": ".py",
   "mimetype": "text/x-python",
   "name": "python",
   "nbconvert_exporter": "python",
   "pygments_lexer": "ipython2",
   "version": "2.7.14"
  }
 },
 "nbformat": 4,
 "nbformat_minor": 2
}
